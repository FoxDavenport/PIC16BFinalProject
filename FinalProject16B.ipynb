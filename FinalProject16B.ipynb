{
 "cells": [
  {
   "cell_type": "markdown",
   "id": "1905f8f0-0abe-4a48-8380-f33f5b9eb891",
   "metadata": {},
   "source": [
    "# Housing Price Trends and Factors in Current Day America"
   ]
  },
  {
   "cell_type": "markdown",
   "id": "95ab6d4c-3822-43a5-9dd6-c0b7c58b7571",
   "metadata": {},
   "source": [
    "Table of Contents:\n",
    "    \n",
    "1. Rising Concerns for Housing\n",
    "2. A Preliminary Look at the Data\n",
    "3. *Later Thing*\n",
    "4. *Later Thing*\n",
    "\n",
    "\n",
    "By Eric Chi and Fox Davenport"
   ]
  },
  {
   "cell_type": "markdown",
   "id": "b67e53c5-5f1d-4608-a210-b95e0cf19f0f",
   "metadata": {},
   "source": [
    "# Rising Concerns for Housing"
   ]
  },
  {
   "cell_type": "markdown",
   "id": "53e1e858-7300-40f1-ad69-30a93f73e52c",
   "metadata": {},
   "source": [
    "## Goal of Our Project"
   ]
  },
  {
   "cell_type": "markdown",
   "id": "0e6d2f3d-e6c2-40ce-8db7-d40d48ebb82c",
   "metadata": {},
   "source": [
    "The project is trying to address the growing concern among Generation Z and Millennials regarding the increasing difficulty of homeownership due to rising housing prices and rental costs. This analysis aims to identify and quantify the various factors that influence housing prices and rent. The goal is to create a multiple linear regression model that can reasonably predict housing and rent prices, so that consumers can understand the trends in housing right now. With this new found knowledge, they can make more informed financial decisions. We will start by creating an MLR with all potential factors in our data. Using a combination of partial F-tests and ANOVAs, we will determine the significant predictors. Then we will establish a machine learning model to create and train MLRs before performing an F-test to determine the best model. Finally, we will check to make sure our model assumptions for MLR are satisfied before drawing conclusions."
   ]
  },
  {
   "cell_type": "markdown",
   "id": "d07445dd-4ed1-46bc-8254-78eb70eb8e2d",
   "metadata": {},
   "source": [
    "## Why Housing?"
   ]
  },
  {
   "cell_type": "markdown",
   "id": "ddd2c336-3213-4713-87b3-cc3c61404927",
   "metadata": {},
   "source": [
    "Day after day, you constantly hear the news rerpot about the struggles that Generation Z and Millenials face. There is a growing shared sentiment amongst Generation Z and Millenials that the world is filled with dread and gloom. The world is becoming harder to survive and live in causing worries about the future. Housing is one of these issues with many people exclaiming how rent and housing prices only seem to go up. There are countless stories of people paying outrageous prices for poor living situations that would have been cheaper in the past. \n",
    "\n",
    "As students looking to work in the data science field this project allows us to practice our abilities in pattern recognition and data management for a topic which concerns us and our colleagues. I, Eric, am a math/economics major so a topic such as the housing market and the variables which can make the market fluctuate has a direct tie into my studies in business and mathematical modeling. I, Fox, am a financial actuarial math major so the analysis of contributing factors to an economic trend will be part of my daily work life in the future. One of our personal greatest fears is being able to secure a comfortable and proper living after college. Housing is crucial for that lifestyle and understanding the general trends that affect housing prices/rental costs will give us an advantage in decision making when we enter the housing market."
   ]
  },
  {
   "cell_type": "markdown",
   "id": "db605656-8b08-4e7b-9c74-c25be0640b50",
   "metadata": {},
   "source": [
    "# A Preliminary Look at the Data"
   ]
  },
  {
   "cell_type": "markdown",
   "id": "4e927830-46fd-4434-85db-53b09fd0acf7",
   "metadata": {},
   "source": [
    "Our data was taken from Kaggle and is extensive housing data for the Ames, Iowa region. Necessary precautions will be taken to prevent overfitting and try to make it relatively generalizable to the rest of the USA. Already provides us with training and testing data\n",
    "\n",
    "https://www.kaggle.com/competitions/house-prices-advanced-regression-techniques/overview"
   ]
  },
  {
   "cell_type": "code",
   "execution_count": 93,
   "id": "0afeeb2d-6b58-4ec5-989a-c6b161766dff",
   "metadata": {
    "tags": []
   },
   "outputs": [],
   "source": [
    "# import packages\n",
    "import pandas as pd\n",
    "import numpy as np\n",
    "import matplotlib.pyplot as plt\n",
    "import plotly.express as px\n",
    "from tensorflow.keras import layers, initializers, utils\n",
    "from sklearn.model_selection import train_test_split\n",
    "import tensorflow as tf\n",
    "from sklearn.preprocessing import LabelEncoder, StandardScaler\n",
    "import seaborn as sns\n",
    "import time\n",
    "from sklearn.ensemble import RandomForestClassifier\n",
    "from sklearn.model_selection import GridSearchCV\n",
    "from sklearn.svm import SVC\n",
    "from sklearn.model_selection import RepeatedStratifiedKFold\n",
    "from sklearn.linear_model import LogisticRegression\n",
    "from sklearn.decomposition import KernelPCA\n",
    "from sklearn.metrics import accuracy_score\n",
    "from sklearn.cluster import KMeans\n",
    "from sklearn.decomposition import PCA"
   ]
  },
  {
   "cell_type": "code",
   "execution_count": 112,
   "id": "466ce1ab-5646-4197-9302-7059838ede2c",
   "metadata": {
    "tags": []
   },
   "outputs": [],
   "source": [
    "# Read in our data. Already given training and test ones\n",
    "train_data = pd.read_csv('https://github.com/FoxDavenport/PIC16BFinalProject/blob/main/train.csv?raw=true')\n",
    "\n",
    "test_data = pd.read_csv('https://github.com/FoxDavenport/PIC16BFinalProject/blob/main/test.csv?raw=true')"
   ]
  },
  {
   "cell_type": "markdown",
   "id": "d66abd7c-f55d-4cc4-a383-19945bc32d59",
   "metadata": {},
   "source": [
    "## Data Exploration and Processing "
   ]
  },
  {
   "cell_type": "markdown",
   "id": "ff2aeb59-95dd-4e01-97c6-13bd4a13fb0b",
   "metadata": {},
   "source": [
    "Let's observe what information our dataset contains, how it's structued, and what it looks like. We will only observe this for the training data"
   ]
  },
  {
   "cell_type": "code",
   "execution_count": 126,
   "id": "01593a42-7515-49dc-bfc0-d7f4e2d040c4",
   "metadata": {
    "tags": []
   },
   "outputs": [
    {
     "data": {
      "text/plain": [
       "(1460, 81)"
      ]
     },
     "execution_count": 126,
     "metadata": {},
     "output_type": "execute_result"
    }
   ],
   "source": [
    "train_data.shape"
   ]
  },
  {
   "cell_type": "markdown",
   "id": "18882042-daeb-4aee-a848-ec10f4a2e4e0",
   "metadata": {},
   "source": [
    "The training data has 1460 houses and 81 features for each house. We will use all entries from the training data as the size is small enough that crashes shouldn't occur."
   ]
  },
  {
   "cell_type": "markdown",
   "id": "0a71c9ff-6737-45b8-8a89-a2f4ac6bbaff",
   "metadata": {},
   "source": [
    "Let us examine to see what features are potential factors for our housing price."
   ]
  },
  {
   "cell_type": "code",
   "execution_count": 136,
   "id": "ceece55b-8c01-42c3-bbf6-e9e49bb7e303",
   "metadata": {
    "tags": []
   },
   "outputs": [
    {
     "data": {
      "text/plain": [
       "Index(['Id', 'MSSubClass', 'MSZoning', 'LotFrontage', 'LotArea', 'Street',\n",
       "       'Alley', 'LotShape', 'LandContour', 'Utilities', 'LotConfig',\n",
       "       'LandSlope', 'Neighborhood', 'Condition1', 'Condition2', 'BldgType',\n",
       "       'HouseStyle', 'OverallQual', 'OverallCond', 'YearBuilt', 'YearRemodAdd',\n",
       "       'RoofStyle', 'RoofMatl', 'Exterior1st', 'Exterior2nd', 'MasVnrType',\n",
       "       'MasVnrArea', 'ExterQual', 'ExterCond', 'Foundation', 'BsmtQual',\n",
       "       'BsmtCond', 'BsmtExposure', 'BsmtFinType1', 'BsmtFinSF1',\n",
       "       'BsmtFinType2', 'BsmtFinSF2', 'BsmtUnfSF', 'TotalBsmtSF', 'Heating',\n",
       "       'HeatingQC', 'CentralAir', 'Electrical', '1stFlrSF', '2ndFlrSF',\n",
       "       'LowQualFinSF', 'GrLivArea', 'BsmtFullBath', 'BsmtHalfBath', 'FullBath',\n",
       "       'HalfBath', 'BedroomAbvGr', 'KitchenAbvGr', 'KitchenQual',\n",
       "       'TotRmsAbvGrd', 'Functional', 'Fireplaces', 'FireplaceQu', 'GarageType',\n",
       "       'GarageYrBlt', 'GarageFinish', 'GarageCars', 'GarageArea', 'GarageQual',\n",
       "       'GarageCond', 'PavedDrive', 'WoodDeckSF', 'OpenPorchSF',\n",
       "       'EnclosedPorch', '3SsnPorch', 'ScreenPorch', 'PoolArea', 'PoolQC',\n",
       "       'Fence', 'MiscFeature', 'MiscVal', 'MoSold', 'YrSold', 'SaleType',\n",
       "       'SaleCondition', 'SalePrice'],\n",
       "      dtype='object')"
      ]
     },
     "execution_count": 136,
     "metadata": {},
     "output_type": "execute_result"
    }
   ],
   "source": [
    "# Gets column names\n",
    "train_data.columns"
   ]
  },
  {
   "cell_type": "code",
   "execution_count": null,
   "id": "9fcb1552-671f-4cc6-86a2-8a4db83ec48d",
   "metadata": {},
   "outputs": [],
   "source": []
  }
 ],
 "metadata": {
  "kernelspec": {
   "display_name": "Python 3 (ipykernel)",
   "language": "python",
   "name": "python3"
  },
  "language_info": {
   "codemirror_mode": {
    "name": "ipython",
    "version": 3
   },
   "file_extension": ".py",
   "mimetype": "text/x-python",
   "name": "python",
   "nbconvert_exporter": "python",
   "pygments_lexer": "ipython3",
   "version": "3.11.7"
  }
 },
 "nbformat": 4,
 "nbformat_minor": 5
}
